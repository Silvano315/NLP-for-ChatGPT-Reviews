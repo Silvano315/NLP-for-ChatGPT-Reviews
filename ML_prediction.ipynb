{
 "cells": [
  {
   "cell_type": "code",
   "execution_count": 1,
   "metadata": {},
   "outputs": [],
   "source": [
    "import numpy as np\n",
    "import pandas as pd\n",
    "from matplotlib import pyplot as plt\n",
    "import seaborn as sns\n",
    "\n",
    "from sklearn.ensemble import RandomForestClassifier\n",
    "from sklearn.linear_model import LogisticRegression\n",
    "from xgboost import XGBClassifier\n",
    "\n",
    "from sklearn.model_selection import StratifiedKFold\n",
    "from sklearn.metrics import accuracy_score, precision_score, recall_score, f1_score, balanced_accuracy_score, confusion_matrix\n",
    "\n",
    "from  src.ML_functions import plot_model_metrics"
   ]
  },
  {
   "cell_type": "code",
   "execution_count": 2,
   "metadata": {},
   "outputs": [
    {
     "data": {
      "text/html": [
       "<div>\n",
       "<style scoped>\n",
       "    .dataframe tbody tr th:only-of-type {\n",
       "        vertical-align: middle;\n",
       "    }\n",
       "\n",
       "    .dataframe tbody tr th {\n",
       "        vertical-align: top;\n",
       "    }\n",
       "\n",
       "    .dataframe thead th {\n",
       "        text-align: right;\n",
       "    }\n",
       "</style>\n",
       "<table border=\"1\" class=\"dataframe\">\n",
       "  <thead>\n",
       "    <tr style=\"text-align: right;\">\n",
       "      <th></th>\n",
       "      <th>score</th>\n",
       "      <th>thumbsUpCount</th>\n",
       "      <th>accurate</th>\n",
       "      <th>add</th>\n",
       "      <th>ai</th>\n",
       "      <th>also</th>\n",
       "      <th>always</th>\n",
       "      <th>amazing</th>\n",
       "      <th>answer</th>\n",
       "      <th>anything</th>\n",
       "      <th>...</th>\n",
       "      <th>voice</th>\n",
       "      <th>want</th>\n",
       "      <th>way</th>\n",
       "      <th>well</th>\n",
       "      <th>wonderful</th>\n",
       "      <th>work</th>\n",
       "      <th>would</th>\n",
       "      <th>wow</th>\n",
       "      <th>sentiment</th>\n",
       "      <th>text_length</th>\n",
       "    </tr>\n",
       "  </thead>\n",
       "  <tbody>\n",
       "    <tr>\n",
       "      <th>0</th>\n",
       "      <td>5</td>\n",
       "      <td>0</td>\n",
       "      <td>0.0</td>\n",
       "      <td>0.0</td>\n",
       "      <td>0.540835</td>\n",
       "      <td>0.0</td>\n",
       "      <td>0.0</td>\n",
       "      <td>0.0</td>\n",
       "      <td>0.0</td>\n",
       "      <td>0.0</td>\n",
       "      <td>...</td>\n",
       "      <td>0.0</td>\n",
       "      <td>0.0</td>\n",
       "      <td>0.0</td>\n",
       "      <td>0.0</td>\n",
       "      <td>0.0</td>\n",
       "      <td>0.0</td>\n",
       "      <td>0.0</td>\n",
       "      <td>0.0</td>\n",
       "      <td>0.6369</td>\n",
       "      <td>4</td>\n",
       "    </tr>\n",
       "    <tr>\n",
       "      <th>1</th>\n",
       "      <td>5</td>\n",
       "      <td>0</td>\n",
       "      <td>0.0</td>\n",
       "      <td>0.0</td>\n",
       "      <td>0.000000</td>\n",
       "      <td>0.0</td>\n",
       "      <td>0.0</td>\n",
       "      <td>0.0</td>\n",
       "      <td>0.0</td>\n",
       "      <td>0.0</td>\n",
       "      <td>...</td>\n",
       "      <td>0.0</td>\n",
       "      <td>0.0</td>\n",
       "      <td>0.0</td>\n",
       "      <td>0.0</td>\n",
       "      <td>0.0</td>\n",
       "      <td>0.0</td>\n",
       "      <td>0.0</td>\n",
       "      <td>0.0</td>\n",
       "      <td>0.4404</td>\n",
       "      <td>2</td>\n",
       "    </tr>\n",
       "    <tr>\n",
       "      <th>2</th>\n",
       "      <td>5</td>\n",
       "      <td>0</td>\n",
       "      <td>0.0</td>\n",
       "      <td>0.0</td>\n",
       "      <td>0.000000</td>\n",
       "      <td>0.0</td>\n",
       "      <td>0.0</td>\n",
       "      <td>0.0</td>\n",
       "      <td>0.0</td>\n",
       "      <td>0.0</td>\n",
       "      <td>...</td>\n",
       "      <td>0.0</td>\n",
       "      <td>0.0</td>\n",
       "      <td>0.0</td>\n",
       "      <td>0.0</td>\n",
       "      <td>0.0</td>\n",
       "      <td>0.0</td>\n",
       "      <td>0.0</td>\n",
       "      <td>0.0</td>\n",
       "      <td>0.7096</td>\n",
       "      <td>3</td>\n",
       "    </tr>\n",
       "    <tr>\n",
       "      <th>3</th>\n",
       "      <td>1</td>\n",
       "      <td>0</td>\n",
       "      <td>0.0</td>\n",
       "      <td>0.0</td>\n",
       "      <td>0.000000</td>\n",
       "      <td>0.0</td>\n",
       "      <td>0.0</td>\n",
       "      <td>0.0</td>\n",
       "      <td>0.0</td>\n",
       "      <td>0.0</td>\n",
       "      <td>...</td>\n",
       "      <td>0.0</td>\n",
       "      <td>0.0</td>\n",
       "      <td>0.0</td>\n",
       "      <td>0.0</td>\n",
       "      <td>0.0</td>\n",
       "      <td>0.0</td>\n",
       "      <td>0.0</td>\n",
       "      <td>0.0</td>\n",
       "      <td>0.4215</td>\n",
       "      <td>1</td>\n",
       "    </tr>\n",
       "    <tr>\n",
       "      <th>4</th>\n",
       "      <td>4</td>\n",
       "      <td>0</td>\n",
       "      <td>0.0</td>\n",
       "      <td>0.0</td>\n",
       "      <td>0.000000</td>\n",
       "      <td>0.0</td>\n",
       "      <td>0.0</td>\n",
       "      <td>0.0</td>\n",
       "      <td>0.0</td>\n",
       "      <td>0.0</td>\n",
       "      <td>...</td>\n",
       "      <td>0.0</td>\n",
       "      <td>0.0</td>\n",
       "      <td>0.0</td>\n",
       "      <td>0.0</td>\n",
       "      <td>0.0</td>\n",
       "      <td>0.0</td>\n",
       "      <td>0.0</td>\n",
       "      <td>0.0</td>\n",
       "      <td>0.1372</td>\n",
       "      <td>9</td>\n",
       "    </tr>\n",
       "  </tbody>\n",
       "</table>\n",
       "<p>5 rows × 104 columns</p>\n",
       "</div>"
      ],
      "text/plain": [
       "   score  thumbsUpCount  accurate  add        ai  also  always  amazing  \\\n",
       "0      5              0       0.0  0.0  0.540835   0.0     0.0      0.0   \n",
       "1      5              0       0.0  0.0  0.000000   0.0     0.0      0.0   \n",
       "2      5              0       0.0  0.0  0.000000   0.0     0.0      0.0   \n",
       "3      1              0       0.0  0.0  0.000000   0.0     0.0      0.0   \n",
       "4      4              0       0.0  0.0  0.000000   0.0     0.0      0.0   \n",
       "\n",
       "   answer  anything  ...  voice  want  way  well  wonderful  work  would  wow  \\\n",
       "0     0.0       0.0  ...    0.0   0.0  0.0   0.0        0.0   0.0    0.0  0.0   \n",
       "1     0.0       0.0  ...    0.0   0.0  0.0   0.0        0.0   0.0    0.0  0.0   \n",
       "2     0.0       0.0  ...    0.0   0.0  0.0   0.0        0.0   0.0    0.0  0.0   \n",
       "3     0.0       0.0  ...    0.0   0.0  0.0   0.0        0.0   0.0    0.0  0.0   \n",
       "4     0.0       0.0  ...    0.0   0.0  0.0   0.0        0.0   0.0    0.0  0.0   \n",
       "\n",
       "   sentiment  text_length  \n",
       "0     0.6369            4  \n",
       "1     0.4404            2  \n",
       "2     0.7096            3  \n",
       "3     0.4215            1  \n",
       "4     0.1372            9  \n",
       "\n",
       "[5 rows x 104 columns]"
      ]
     },
     "execution_count": 2,
     "metadata": {},
     "output_type": "execute_result"
    }
   ],
   "source": [
    "# Load Dataframe\n",
    "\n",
    "df = pd.read_csv('Preprocessed_Data/Final_df.csv')\n",
    "df.drop(columns=['Unnamed: 0'], inplace=True)\n",
    "df.head()"
   ]
  },
  {
   "cell_type": "markdown",
   "metadata": {},
   "source": [
    "# MODELLING"
   ]
  },
  {
   "cell_type": "code",
   "execution_count": 3,
   "metadata": {},
   "outputs": [
    {
     "name": "stdout",
     "output_type": "stream",
     "text": [
      "Shape for X features set: (134416, 103)\n",
      "Shape for y target column: (134416,)\n"
     ]
    }
   ],
   "source": [
    "# Split df\n",
    "\n",
    "X = df.drop(columns=['score'])\n",
    "y = df['score'] - 1     # Mapping target column from [1,2,3,4,5] to [0,1,2,3,4]\n",
    "\n",
    "print(f'Shape for X features set: {X.shape}')\n",
    "print(f'Shape for y target column: {y.shape}')"
   ]
  },
  {
   "cell_type": "code",
   "execution_count": 6,
   "metadata": {},
   "outputs": [],
   "source": [
    "# Initialize ML models\n",
    "\n",
    "models = {\n",
    "    'RandomForest': RandomForestClassifier(random_state=42, n_jobs=-1),\n",
    "    'LogisticRegression': LogisticRegression(max_iter=1000, random_state=42, n_jobs=-1),\n",
    "    'XGBoost': XGBClassifier(random_state=42, use_label_encoder=False, eval_metric='mlogloss', n_jobs=-1)\n",
    "    \n",
    "}"
   ]
  },
  {
   "cell_type": "code",
   "execution_count": 7,
   "metadata": {},
   "outputs": [],
   "source": [
    "# Initialize Stratified K fold\n",
    "\n",
    "k = 10\n",
    "\n",
    "skf = StratifiedKFold(n_splits=k, shuffle=True, random_state=42)"
   ]
  },
  {
   "cell_type": "code",
   "execution_count": 8,
   "metadata": {},
   "outputs": [],
   "source": [
    "# Dict to save metric evaluation scores\n",
    "\n",
    "metrics = ['accuracy', 'precision', 'recall', 'f1', 'balanced_accuracy', 'confusion_matrix']\n",
    "\n",
    "model_metrics = {name : {metric : [] for metric in metrics} for name in models}\n"
   ]
  },
  {
   "cell_type": "code",
   "execution_count": 9,
   "metadata": {},
   "outputs": [
    {
     "name": "stdout",
     "output_type": "stream",
     "text": [
      "Fold 1 evaluating...\n",
      "----------------------------------------\n",
      "RandomForest model training...\n",
      "LogisticRegression model training...\n",
      "XGBoost model training...\n",
      "----------------------------------------\n",
      "Fold 2 evaluating...\n",
      "----------------------------------------\n",
      "RandomForest model training...\n",
      "LogisticRegression model training...\n"
     ]
    },
    {
     "name": "stderr",
     "output_type": "stream",
     "text": [
      "/Users/silvanoquarto/Desktop/PROJECTS/NLP-for-ChatGPT-Reviews/.venv/lib/python3.11/site-packages/sklearn/metrics/_classification.py:1517: UndefinedMetricWarning: Precision is ill-defined and being set to 0.0 in labels with no predicted samples. Use `zero_division` parameter to control this behavior.\n",
      "  _warn_prf(average, modifier, f\"{metric.capitalize()} is\", len(result))\n"
     ]
    },
    {
     "name": "stdout",
     "output_type": "stream",
     "text": [
      "XGBoost model training...\n",
      "----------------------------------------\n",
      "Fold 3 evaluating...\n",
      "----------------------------------------\n",
      "RandomForest model training...\n",
      "LogisticRegression model training...\n"
     ]
    },
    {
     "name": "stderr",
     "output_type": "stream",
     "text": [
      "/Users/silvanoquarto/Desktop/PROJECTS/NLP-for-ChatGPT-Reviews/.venv/lib/python3.11/site-packages/sklearn/metrics/_classification.py:1517: UndefinedMetricWarning: Precision is ill-defined and being set to 0.0 in labels with no predicted samples. Use `zero_division` parameter to control this behavior.\n",
      "  _warn_prf(average, modifier, f\"{metric.capitalize()} is\", len(result))\n"
     ]
    },
    {
     "name": "stdout",
     "output_type": "stream",
     "text": [
      "XGBoost model training...\n",
      "----------------------------------------\n",
      "Fold 4 evaluating...\n",
      "----------------------------------------\n",
      "RandomForest model training...\n",
      "LogisticRegression model training...\n"
     ]
    },
    {
     "name": "stderr",
     "output_type": "stream",
     "text": [
      "/Users/silvanoquarto/Desktop/PROJECTS/NLP-for-ChatGPT-Reviews/.venv/lib/python3.11/site-packages/sklearn/metrics/_classification.py:1517: UndefinedMetricWarning: Precision is ill-defined and being set to 0.0 in labels with no predicted samples. Use `zero_division` parameter to control this behavior.\n",
      "  _warn_prf(average, modifier, f\"{metric.capitalize()} is\", len(result))\n"
     ]
    },
    {
     "name": "stdout",
     "output_type": "stream",
     "text": [
      "XGBoost model training...\n",
      "----------------------------------------\n",
      "Fold 5 evaluating...\n",
      "----------------------------------------\n",
      "RandomForest model training...\n",
      "LogisticRegression model training...\n"
     ]
    },
    {
     "name": "stderr",
     "output_type": "stream",
     "text": [
      "/Users/silvanoquarto/Desktop/PROJECTS/NLP-for-ChatGPT-Reviews/.venv/lib/python3.11/site-packages/sklearn/metrics/_classification.py:1517: UndefinedMetricWarning: Precision is ill-defined and being set to 0.0 in labels with no predicted samples. Use `zero_division` parameter to control this behavior.\n",
      "  _warn_prf(average, modifier, f\"{metric.capitalize()} is\", len(result))\n"
     ]
    },
    {
     "name": "stdout",
     "output_type": "stream",
     "text": [
      "XGBoost model training...\n",
      "----------------------------------------\n",
      "Fold 6 evaluating...\n",
      "----------------------------------------\n",
      "RandomForest model training...\n",
      "LogisticRegression model training...\n"
     ]
    },
    {
     "name": "stderr",
     "output_type": "stream",
     "text": [
      "/Users/silvanoquarto/Desktop/PROJECTS/NLP-for-ChatGPT-Reviews/.venv/lib/python3.11/site-packages/sklearn/metrics/_classification.py:1517: UndefinedMetricWarning: Precision is ill-defined and being set to 0.0 in labels with no predicted samples. Use `zero_division` parameter to control this behavior.\n",
      "  _warn_prf(average, modifier, f\"{metric.capitalize()} is\", len(result))\n"
     ]
    },
    {
     "name": "stdout",
     "output_type": "stream",
     "text": [
      "XGBoost model training...\n",
      "----------------------------------------\n",
      "Fold 7 evaluating...\n",
      "----------------------------------------\n",
      "RandomForest model training...\n",
      "LogisticRegression model training...\n"
     ]
    },
    {
     "name": "stderr",
     "output_type": "stream",
     "text": [
      "/Users/silvanoquarto/Desktop/PROJECTS/NLP-for-ChatGPT-Reviews/.venv/lib/python3.11/site-packages/sklearn/metrics/_classification.py:1517: UndefinedMetricWarning: Precision is ill-defined and being set to 0.0 in labels with no predicted samples. Use `zero_division` parameter to control this behavior.\n",
      "  _warn_prf(average, modifier, f\"{metric.capitalize()} is\", len(result))\n"
     ]
    },
    {
     "name": "stdout",
     "output_type": "stream",
     "text": [
      "XGBoost model training...\n",
      "----------------------------------------\n",
      "Fold 8 evaluating...\n",
      "----------------------------------------\n",
      "RandomForest model training...\n",
      "LogisticRegression model training...\n",
      "XGBoost model training...\n",
      "----------------------------------------\n",
      "Fold 9 evaluating...\n",
      "----------------------------------------\n",
      "RandomForest model training...\n",
      "LogisticRegression model training...\n"
     ]
    },
    {
     "name": "stderr",
     "output_type": "stream",
     "text": [
      "/Users/silvanoquarto/Desktop/PROJECTS/NLP-for-ChatGPT-Reviews/.venv/lib/python3.11/site-packages/sklearn/metrics/_classification.py:1517: UndefinedMetricWarning: Precision is ill-defined and being set to 0.0 in labels with no predicted samples. Use `zero_division` parameter to control this behavior.\n",
      "  _warn_prf(average, modifier, f\"{metric.capitalize()} is\", len(result))\n"
     ]
    },
    {
     "name": "stdout",
     "output_type": "stream",
     "text": [
      "XGBoost model training...\n",
      "----------------------------------------\n",
      "Fold 10 evaluating...\n",
      "----------------------------------------\n",
      "RandomForest model training...\n",
      "LogisticRegression model training...\n"
     ]
    },
    {
     "name": "stderr",
     "output_type": "stream",
     "text": [
      "/Users/silvanoquarto/Desktop/PROJECTS/NLP-for-ChatGPT-Reviews/.venv/lib/python3.11/site-packages/sklearn/metrics/_classification.py:1517: UndefinedMetricWarning: Precision is ill-defined and being set to 0.0 in labels with no predicted samples. Use `zero_division` parameter to control this behavior.\n",
      "  _warn_prf(average, modifier, f\"{metric.capitalize()} is\", len(result))\n"
     ]
    },
    {
     "name": "stdout",
     "output_type": "stream",
     "text": [
      "XGBoost model training...\n",
      "----------------------------------------\n"
     ]
    }
   ],
   "source": [
    "# Models training \n",
    "\n",
    "for i, (train_index, test_index) in enumerate(skf.split(X, y)):\n",
    "\n",
    "    print(f'Fold {i+1} evaluating...')\n",
    "\n",
    "    X_train, X_test = X.iloc[train_index], X.iloc[test_index]\n",
    "    y_train, y_test = y.iloc[train_index], y.iloc[test_index]\n",
    "\n",
    "    print('-'*40)\n",
    "    \n",
    "    for name, model in models.items():\n",
    "\n",
    "        print(f'{name} model training...')\n",
    "\n",
    "        model.fit(X_train, y_train)\n",
    "        \n",
    "        y_pred = model.predict(X_test)\n",
    "        \n",
    "        model_metrics[name]['accuracy'].append(accuracy_score(y_test, y_pred))\n",
    "        model_metrics[name]['precision'].append(precision_score(y_test, y_pred, average='weighted'))\n",
    "        model_metrics[name]['recall'].append(recall_score(y_test, y_pred, average='weighted'))\n",
    "        model_metrics[name]['f1'].append(f1_score(y_test, y_pred, average='weighted'))\n",
    "        model_metrics[name]['balanced_accuracy'].append(balanced_accuracy_score(y_test, y_pred))\n",
    "        model_metrics[name]['confusion_matrix'].append(confusion_matrix(y_test, y_pred))\n",
    "\n",
    "    print('-'*40)"
   ]
  },
  {
   "cell_type": "code",
   "execution_count": 19,
   "metadata": {},
   "outputs": [
    {
     "name": "stdout",
     "output_type": "stream",
     "text": [
      "\n",
      "RandomForest Performance Metrics:\n",
      "Accuracy - Mean: 0.7599, Std: 0.0015\n",
      "Precision - Mean: 0.6526, Std: 0.0036\n",
      "Recall - Mean: 0.7599, Std: 0.0015\n",
      "F1 - Mean: 0.6914, Std: 0.0016\n",
      "Balanced_accuracy - Mean: 0.2687, Std: 0.0036\n",
      "\n",
      "LogisticRegression Performance Metrics:\n",
      "Accuracy - Mean: 0.7712, Std: 0.0010\n",
      "Precision - Mean: 0.6611, Std: 0.0251\n",
      "Recall - Mean: 0.7712, Std: 0.0010\n",
      "F1 - Mean: 0.6876, Std: 0.0013\n",
      "Balanced_accuracy - Mean: 0.2554, Std: 0.0031\n",
      "\n",
      "XGBoost Performance Metrics:\n",
      "Accuracy - Mean: 0.7735, Std: 0.0012\n",
      "Precision - Mean: 0.6638, Std: 0.0136\n",
      "Recall - Mean: 0.7735, Std: 0.0012\n",
      "F1 - Mean: 0.6940, Std: 0.0016\n",
      "Balanced_accuracy - Mean: 0.2691, Std: 0.0032\n"
     ]
    }
   ],
   "source": [
    "# Mean and Std for each evaluation metric and model\n",
    "\n",
    "final_metrics = {name: {metric: (np.mean(scores), np.std(scores)) for metric, scores in metrics_dict.items()} for name, metrics_dict in model_metrics.items()}\n",
    "\n",
    "for name, metrics_dict in final_metrics.items():\n",
    "\n",
    "    print(f\"\\n{name} Performance Metrics:\")\n",
    "    for metric, (mean_score, std_score) in metrics_dict.items():\n",
    "\n",
    "        if metric.capitalize() == 'Confusion_matrix':\n",
    "            continue\n",
    "\n",
    "        print(f\"{metric.capitalize()} - Mean: {mean_score:.4f}, Std: {std_score:.4f}\")"
   ]
  },
  {
   "cell_type": "code",
   "execution_count": 13,
   "metadata": {},
   "outputs": [
    {
     "data": {
      "image/png": "[encoded data removed]",
      "text/plain": [
       "<Figure size 2000x1200 with 6 Axes>"
      ]
     },
     "metadata": {},
     "output_type": "display_data"
    }
   ],
   "source": [
    "# Visualize and compare models results\n",
    "\n",
    "plot_model_metrics(model_metrics, models, metrics)\n"
   ]
  }
 ],
 "metadata": {
  "kernelspec": {
   "display_name": ".venv",
   "language": "python",
   "name": "python3"
  },
  "language_info": {
   "codemirror_mode": {
    "name": "ipython",
    "version": 3
   },
   "file_extension": ".py",
   "mimetype": "text/x-python",
   "name": "python",
   "nbconvert_exporter": "python",
   "pygments_lexer": "ipython3",
   "version": "3.11.9"
  }
 },
 "nbformat": 4,
 "nbformat_minor": 2
}
