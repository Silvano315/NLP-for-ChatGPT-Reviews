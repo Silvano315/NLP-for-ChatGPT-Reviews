{
 "cells": [
  {
   "cell_type": "markdown",
   "metadata": {},
   "source": [
    "# IMPORT LIBRARIES and DATASET"
   ]
  },
  {
   "cell_type": "code",
   "execution_count": 12,
   "metadata": {},
   "outputs": [],
   "source": [
    "import numpy as np\n",
    "import pandas as pd\n",
    "from matplotlib import pyplot as plt\n",
    "import seaborn as sns"
   ]
  },
  {
   "cell_type": "code",
   "execution_count": 13,
   "metadata": {},
   "outputs": [
    {
     "data": {
      "text/html": [
       "<div>\n",
       "<style scoped>\n",
       "    .dataframe tbody tr th:only-of-type {\n",
       "        vertical-align: middle;\n",
       "    }\n",
       "\n",
       "    .dataframe tbody tr th {\n",
       "        vertical-align: top;\n",
       "    }\n",
       "\n",
       "    .dataframe thead th {\n",
       "        text-align: right;\n",
       "    }\n",
       "</style>\n",
       "<table border=\"1\" class=\"dataframe\">\n",
       "  <thead>\n",
       "    <tr style=\"text-align: right;\">\n",
       "      <th></th>\n",
       "      <th>reviewId</th>\n",
       "      <th>userName</th>\n",
       "      <th>content</th>\n",
       "      <th>score</th>\n",
       "      <th>thumbsUpCount</th>\n",
       "      <th>reviewCreatedVersion</th>\n",
       "      <th>at</th>\n",
       "      <th>appVersion</th>\n",
       "    </tr>\n",
       "  </thead>\n",
       "  <tbody>\n",
       "    <tr>\n",
       "      <th>0</th>\n",
       "      <td>8d23ba1a-8455-4ea5-bbcd-47c6b00dd8eb</td>\n",
       "      <td>Dike Sina</td>\n",
       "      <td>Best Ai ever ❤️</td>\n",
       "      <td>5</td>\n",
       "      <td>0</td>\n",
       "      <td>1.2024.143</td>\n",
       "      <td>2024-06-05 22:27:21</td>\n",
       "      <td>1.2024.143</td>\n",
       "    </tr>\n",
       "    <tr>\n",
       "      <th>1</th>\n",
       "      <td>b4374835-e711-4ea8-a009-20cd45597d64</td>\n",
       "      <td>Oil Wealth</td>\n",
       "      <td>good app</td>\n",
       "      <td>5</td>\n",
       "      <td>0</td>\n",
       "      <td>1.2024.151</td>\n",
       "      <td>2024-06-05 22:26:17</td>\n",
       "      <td>1.2024.151</td>\n",
       "    </tr>\n",
       "    <tr>\n",
       "      <th>2</th>\n",
       "      <td>d97a7ab9-10be-40ae-a3c3-3e92a83b0659</td>\n",
       "      <td>Mojtaba farahani</td>\n",
       "      <td>Good luck 💙</td>\n",
       "      <td>5</td>\n",
       "      <td>0</td>\n",
       "      <td>1.2024.151</td>\n",
       "      <td>2024-06-05 22:17:37</td>\n",
       "      <td>1.2024.151</td>\n",
       "    </tr>\n",
       "    <tr>\n",
       "      <th>3</th>\n",
       "      <td>03be92f7-084a-4bac-9131-c59e7ca61ca6</td>\n",
       "      <td>Michael Chisonum</td>\n",
       "      <td>so nice</td>\n",
       "      <td>1</td>\n",
       "      <td>0</td>\n",
       "      <td>1.2024.143</td>\n",
       "      <td>2024-06-05 22:10:59</td>\n",
       "      <td>1.2024.143</td>\n",
       "    </tr>\n",
       "    <tr>\n",
       "      <th>4</th>\n",
       "      <td>18cfaae5-3bd6-4862-b161-5afc3adf5c2d</td>\n",
       "      <td>Zamir Rahmani</td>\n",
       "      <td>Not too much creative really makes me feel bor...</td>\n",
       "      <td>4</td>\n",
       "      <td>0</td>\n",
       "      <td>1.2024.151</td>\n",
       "      <td>2024-06-05 22:10:10</td>\n",
       "      <td>1.2024.151</td>\n",
       "    </tr>\n",
       "  </tbody>\n",
       "</table>\n",
       "</div>"
      ],
      "text/plain": [
       "                               reviewId          userName  \\\n",
       "0  8d23ba1a-8455-4ea5-bbcd-47c6b00dd8eb         Dike Sina   \n",
       "1  b4374835-e711-4ea8-a009-20cd45597d64        Oil Wealth   \n",
       "2  d97a7ab9-10be-40ae-a3c3-3e92a83b0659  Mojtaba farahani   \n",
       "3  03be92f7-084a-4bac-9131-c59e7ca61ca6  Michael Chisonum   \n",
       "4  18cfaae5-3bd6-4862-b161-5afc3adf5c2d     Zamir Rahmani   \n",
       "\n",
       "                                             content  score  thumbsUpCount  \\\n",
       "0                                    Best Ai ever ❤️      5              0   \n",
       "1                                           good app      5              0   \n",
       "2                                        Good luck 💙      5              0   \n",
       "3                                            so nice      1              0   \n",
       "4  Not too much creative really makes me feel bor...      4              0   \n",
       "\n",
       "  reviewCreatedVersion                   at  appVersion  \n",
       "0           1.2024.143  2024-06-05 22:27:21  1.2024.143  \n",
       "1           1.2024.151  2024-06-05 22:26:17  1.2024.151  \n",
       "2           1.2024.151  2024-06-05 22:17:37  1.2024.151  \n",
       "3           1.2024.143  2024-06-05 22:10:59  1.2024.143  \n",
       "4           1.2024.151  2024-06-05 22:10:10  1.2024.151  "
      ]
     },
     "execution_count": 13,
     "metadata": {},
     "output_type": "execute_result"
    }
   ],
   "source": [
    "df = pd.read_csv('Data/chatgpt_reviews.csv', sep=',')\n",
    "\n",
    "df.head()"
   ]
  },
  {
   "cell_type": "code",
   "execution_count": 14,
   "metadata": {},
   "outputs": [
    {
     "name": "stdout",
     "output_type": "stream",
     "text": [
      "<class 'pandas.core.frame.DataFrame'>\n",
      "RangeIndex: 137132 entries, 0 to 137131\n",
      "Data columns (total 8 columns):\n",
      " #   Column                Non-Null Count   Dtype \n",
      "---  ------                --------------   ----- \n",
      " 0   reviewId              137132 non-null  object\n",
      " 1   userName              137131 non-null  object\n",
      " 2   content               137128 non-null  object\n",
      " 3   score                 137132 non-null  int64 \n",
      " 4   thumbsUpCount         137132 non-null  int64 \n",
      " 5   reviewCreatedVersion  125859 non-null  object\n",
      " 6   at                    137132 non-null  object\n",
      " 7   appVersion            125859 non-null  object\n",
      "dtypes: int64(2), object(6)\n",
      "memory usage: 8.4+ MB\n"
     ]
    }
   ],
   "source": [
    "df.info()"
   ]
  },
  {
   "cell_type": "code",
   "execution_count": 15,
   "metadata": {},
   "outputs": [
    {
     "data": {
      "text/html": [
       "<div>\n",
       "<style scoped>\n",
       "    .dataframe tbody tr th:only-of-type {\n",
       "        vertical-align: middle;\n",
       "    }\n",
       "\n",
       "    .dataframe tbody tr th {\n",
       "        vertical-align: top;\n",
       "    }\n",
       "\n",
       "    .dataframe thead th {\n",
       "        text-align: right;\n",
       "    }\n",
       "</style>\n",
       "<table border=\"1\" class=\"dataframe\">\n",
       "  <thead>\n",
       "    <tr style=\"text-align: right;\">\n",
       "      <th></th>\n",
       "      <th>score</th>\n",
       "      <th>thumbsUpCount</th>\n",
       "    </tr>\n",
       "  </thead>\n",
       "  <tbody>\n",
       "    <tr>\n",
       "      <th>count</th>\n",
       "      <td>137132.000000</td>\n",
       "      <td>137132.000000</td>\n",
       "    </tr>\n",
       "    <tr>\n",
       "      <th>mean</th>\n",
       "      <td>4.497258</td>\n",
       "      <td>0.521461</td>\n",
       "    </tr>\n",
       "    <tr>\n",
       "      <th>std</th>\n",
       "      <td>1.090049</td>\n",
       "      <td>12.580185</td>\n",
       "    </tr>\n",
       "    <tr>\n",
       "      <th>min</th>\n",
       "      <td>1.000000</td>\n",
       "      <td>0.000000</td>\n",
       "    </tr>\n",
       "    <tr>\n",
       "      <th>25%</th>\n",
       "      <td>5.000000</td>\n",
       "      <td>0.000000</td>\n",
       "    </tr>\n",
       "    <tr>\n",
       "      <th>50%</th>\n",
       "      <td>5.000000</td>\n",
       "      <td>0.000000</td>\n",
       "    </tr>\n",
       "    <tr>\n",
       "      <th>75%</th>\n",
       "      <td>5.000000</td>\n",
       "      <td>0.000000</td>\n",
       "    </tr>\n",
       "    <tr>\n",
       "      <th>max</th>\n",
       "      <td>5.000000</td>\n",
       "      <td>1193.000000</td>\n",
       "    </tr>\n",
       "  </tbody>\n",
       "</table>\n",
       "</div>"
      ],
      "text/plain": [
       "               score  thumbsUpCount\n",
       "count  137132.000000  137132.000000\n",
       "mean        4.497258       0.521461\n",
       "std         1.090049      12.580185\n",
       "min         1.000000       0.000000\n",
       "25%         5.000000       0.000000\n",
       "50%         5.000000       0.000000\n",
       "75%         5.000000       0.000000\n",
       "max         5.000000    1193.000000"
      ]
     },
     "execution_count": 15,
     "metadata": {},
     "output_type": "execute_result"
    }
   ],
   "source": [
    "df.describe()"
   ]
  },
  {
   "cell_type": "code",
   "execution_count": 16,
   "metadata": {},
   "outputs": [
    {
     "data": {
      "text/plain": [
       "(score\n",
       " 5    104367\n",
       " 4     16129\n",
       " 1      8611\n",
       " 3      5706\n",
       " 2      2319\n",
       " Name: count, dtype: int64,\n",
       " thumbsUpCount\n",
       " 0      132095\n",
       " 1        2901\n",
       " 2         695\n",
       " 3         294\n",
       " 4         148\n",
       "         ...  \n",
       " 447         1\n",
       " 881         1\n",
       " 277         1\n",
       " 231         1\n",
       " 93          1\n",
       " Name: count, Length: 228, dtype: int64)"
      ]
     },
     "execution_count": 16,
     "metadata": {},
     "output_type": "execute_result"
    }
   ],
   "source": [
    "df['score'].value_counts(), df['thumbsUpCount'].value_counts()"
   ]
  },
  {
   "cell_type": "code",
   "execution_count": 17,
   "metadata": {},
   "outputs": [
    {
     "name": "stdout",
     "output_type": "stream",
     "text": [
      "There are 2509 duplicate rows in df_train.\n",
      "Dropped!\n"
     ]
    }
   ],
   "source": [
    "# Check for duplicate rows in df_train\n",
    "duplicate_rows = df.duplicated()\n",
    "\n",
    "# Count the number of duplicate rows\n",
    "num_duplicate_rows = sum(duplicate_rows)\n",
    "\n",
    "if num_duplicate_rows > 0:\n",
    "    print(f\"There are {num_duplicate_rows} duplicate rows in df_train.\")\n",
    "    df_cleaned = df.drop_duplicates()\n",
    "    print('Dropped!')\n",
    "else:\n",
    "    print(\"There are no duplicate rows in df_train.\")"
   ]
  },
  {
   "cell_type": "code",
   "execution_count": 18,
   "metadata": {},
   "outputs": [
    {
     "data": {
      "text/plain": [
       "reviewId                    0\n",
       "userName                    1\n",
       "content                     4\n",
       "score                       0\n",
       "thumbsUpCount               0\n",
       "reviewCreatedVersion    11143\n",
       "at                          0\n",
       "appVersion              11143\n",
       "dtype: int64"
      ]
     },
     "execution_count": 18,
     "metadata": {},
     "output_type": "execute_result"
    }
   ],
   "source": [
    "# Check nan values\n",
    "\n",
    "df_cleaned.isna().sum()"
   ]
  },
  {
   "cell_type": "code",
   "execution_count": 19,
   "metadata": {},
   "outputs": [
    {
     "data": {
      "text/plain": [
       "reviewId                    0\n",
       "userName                    0\n",
       "content                     0\n",
       "score                       0\n",
       "thumbsUpCount               0\n",
       "reviewCreatedVersion    11143\n",
       "at                          0\n",
       "appVersion              11143\n",
       "dtype: int64"
      ]
     },
     "execution_count": 19,
     "metadata": {},
     "output_type": "execute_result"
    }
   ],
   "source": [
    "# Drop only 'content' and 'userName' NaN rows\n",
    "\n",
    "df_cleaned = df_cleaned.dropna(subset=['content', 'userName'])\n",
    "\n",
    "df_cleaned.isna().sum()"
   ]
  },
  {
   "cell_type": "markdown",
   "metadata": {},
   "source": [
    "# DATA VISUALIZATION"
   ]
  },
  {
   "cell_type": "code",
   "execution_count": null,
   "metadata": {},
   "outputs": [],
   "source": []
  }
 ],
 "metadata": {
  "kernelspec": {
   "display_name": "Python 3",
   "language": "python",
   "name": "python3"
  },
  "language_info": {
   "codemirror_mode": {
    "name": "ipython",
    "version": 3
   },
   "file_extension": ".py",
   "mimetype": "text/x-python",
   "name": "python",
   "nbconvert_exporter": "python",
   "pygments_lexer": "ipython3",
   "version": "3.11.9"
  }
 },
 "nbformat": 4,
 "nbformat_minor": 2
}
